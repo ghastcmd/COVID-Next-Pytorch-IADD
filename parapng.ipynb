{
 "cells": [
  {
   "cell_type": "code",
   "execution_count": null,
   "metadata": {},
   "outputs": [],
   "source": [
    "import cv2\n",
    "import numpy as np\n",
    "import pandas as pd\n",
    "import pydicom as dicom\n",
    "import pylibjpeg\n",
    "import gdcm"
   ]
  },
  {
   "cell_type": "code",
   "execution_count": null,
   "metadata": {},
   "outputs": [],
   "source": [
    "df = pd.read_csv('Dataset/train_study_level.csv')\n",
    "df"
   ]
  },
  {
   "cell_type": "code",
   "execution_count": null,
   "metadata": {},
   "outputs": [],
   "source": [
    "labels_names = [\"Typical\", \"Indeterminate\", \"Atypical\"]\n",
    "labels = {}\n",
    "labels[\"Typical\"] = []\n",
    "labels[\"Indeterminate\"] = []\n",
    "labels[\"Atypical\"] = []\n",
    "\n",
    "for index, row in df.iterrows():\n",
    "  if row[\"Typical Appearance\"]: labels[\"Typical\"].append(row[\"id\"][:-6])\n",
    "  elif row[\"Indeterminate Appearance\"]: labels[\"Indeterminate\"].append(row[\"id\"][:-6])\n",
    "  elif row[\"Atypical Appearance\"]: labels[\"Atypical\"].append(row[\"id\"][:-6])"
   ]
  },
  {
   "cell_type": "code",
   "execution_count": null,
   "metadata": {},
   "outputs": [],
   "source": [
    "df2 = pd.read_csv('Dataset/train_image_level.csv')\n",
    "df2"
   ]
  },
  {
   "cell_type": "code",
   "execution_count": null,
   "metadata": {},
   "outputs": [],
   "source": [
    "labels[\"Typical_img\"] = []\n",
    "labels[\"Indeterminate_img\"] = []\n",
    "labels[\"Atypical_img\"] = []\n",
    "\n",
    "for label in labels_names:\n",
    "  for path in labels[label]:\n",
    "    row = df2.loc[df2['StudyInstanceUID'] == path]\n",
    "    labels[label+'_img'].append(row[\"id\"][row.index[0]][:-6])"
   ]
  },
  {
   "cell_type": "code",
   "execution_count": null,
   "metadata": {},
   "outputs": [],
   "source": [
    "print(len(labels[\"Typical\"]), len(labels[\"Indeterminate\"]), len(labels[\"Atypical\"]))\n",
    "print(len(labels[\"Typical_img\"]), len(labels[\"Indeterminate_img\"]), len(labels[\"Atypical_img\"]))"
   ]
  },
  {
   "cell_type": "code",
   "execution_count": null,
   "metadata": {},
   "outputs": [],
   "source": [
    "def get_png(train_test, label, x, y):\n",
    "    imgs = []\n",
    "    root = 'Dataset/'+train_test+'/'\n",
    "    for i in range(x,y):\n",
    "        study = root+labels[label][i]+'/'\n",
    "        if os.path.isdir(study):\n",
    "            for folder in os.listdir(study):\n",
    "                img = study+folder+'/'+labels[label+\"_img\"][i]+'.dcm'\n",
    "                if os.path.isfile(img):\n",
    "                    ds = dicom.dcmread(img)\n",
    "                    data = ds.pixel_array\n",
    "                    image = cv2.resize(data, (224, 224))\n",
    "                    cv2.imwrite('Dataset/'+train_test+'_png/'+label+'/'+str(i)+'.png', image)"
   ]
  },
  {
   "cell_type": "code",
   "execution_count": null,
   "metadata": {},
   "outputs": [],
   "source": [
    "len_labels_typical = len(labels['Typical'])\n",
    "print(len_labels_typical)\n",
    "get_png('train', 'Typical', 0, len_labels_typical)"
   ]
  },
  {
   "cell_type": "code",
   "execution_count": null,
   "metadata": {},
   "outputs": [],
   "source": [
    "len_labels_indeterminate = len(labels['Indeterminate'])\n",
    "print(len_labels_indeterminate)\n",
    "get_png('train', 'Indeterminate', 0, len_labels_indeterminate)"
   ]
  },
  {
   "cell_type": "code",
   "execution_count": null,
   "metadata": {},
   "outputs": [],
   "source": [
    "len_labels_atypical = len(labels['Atypical'])\n",
    "print(len_labels_atypical)\n",
    "get_png('train', 'Atypical', 0, len_labels_atypical)"
   ]
  }
 ],
 "metadata": {
  "language_info": {
   "name": "python"
  },
  "orig_nbformat": 4
 },
 "nbformat": 4,
 "nbformat_minor": 2
}
